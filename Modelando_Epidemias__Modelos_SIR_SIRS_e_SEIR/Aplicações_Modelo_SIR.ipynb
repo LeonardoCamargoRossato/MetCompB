{
 "cells": [
  {
   "cell_type": "code",
   "execution_count": 1,
   "id": "e9f5b0dc",
   "metadata": {},
   "outputs": [],
   "source": [
    "# !pip install numpy\n",
    "# !pip install matplotlib\n",
    "# !pip install ipywidgets\n",
    "# !pip install plotly\n",
    "# !pip install IPython"
   ]
  },
  {
   "cell_type": "code",
   "execution_count": 2,
   "id": "307eec08",
   "metadata": {},
   "outputs": [],
   "source": [
    "import numpy as np\n",
    "import matplotlib.pyplot as plt\n",
    "from ipywidgets import interact, interact_manual\n",
    "import ipywidgets as widgets\n",
    "import plotly.graph_objects as go"
   ]
  },
  {
   "cell_type": "code",
   "execution_count": 3,
   "id": "cc57b89a",
   "metadata": {},
   "outputs": [],
   "source": [
    "import numpy as np"
   ]
  },
  {
   "cell_type": "code",
   "execution_count": 4,
   "id": "51b742c2",
   "metadata": {},
   "outputs": [],
   "source": [
    "import os\n",
    "OUTPUT_DIR = os.path.join('images', 'SIR')"
   ]
  },
  {
   "cell_type": "code",
   "execution_count": 5,
   "id": "8fd71232",
   "metadata": {},
   "outputs": [
    {
     "data": {
      "text/html": [
       "\n",
       "<style>\n",
       "div.output_stderr {\n",
       "display: none !important;\n",
       "}\n",
       "</style>\n",
       "\n",
       "<script>\n",
       "code_show=true;\n",
       "function code_toggle() {\n",
       "if (code_show){\n",
       "$('div.input').hide();\n",
       "} else {\n",
       "$('div.input').show();\n",
       "}\n",
       "code_show = !code_show\n",
       "}\n",
       "$( document ).ready(code_toggle);\n",
       "</script>\n",
       "<form action=\"javascript:code_toggle()\"\"><input type=\"submit\" value=\"Click here to toggle on/off the raw code.\"\"></form>"
      ],
      "text/plain": [
       "<IPython.core.display.HTML object>"
      ]
     },
     "execution_count": 5,
     "metadata": {},
     "output_type": "execute_result"
    }
   ],
   "source": [
    "from IPython.display import HTML\n",
    "\n",
    "HTML('''\n",
    "<style>\n",
    "div.output_stderr {\n",
    "display: none !important;\n",
    "}\n",
    "</style>\n",
    "\n",
    "<script>\n",
    "code_show=true;\n",
    "function code_toggle() {\n",
    "if (code_show){\n",
    "$('div.input').hide();\n",
    "} else {\n",
    "$('div.input').show();\n",
    "}\n",
    "code_show = !code_show\n",
    "}\n",
    "$( document ).ready(code_toggle);\n",
    "</script>\n",
    "<form action=\"javascript:code_toggle()\"\"><input type=\"submit\" value=\"Click here to toggle on/off the raw code.\"\"></form>''')\n"
   ]
  },
  {
   "cell_type": "markdown",
   "id": "32532b63",
   "metadata": {},
   "source": [
    "___\n",
    "___\n",
    "___\n",
    ".\n",
    "\n",
    "DRIVE da DISCIPLINA:  https://drive.google.com/drive/folders/1W8Oo6xm98wCy15RpBmtPQAr3necRIWLi?usp=sharing\n",
    "\n",
    ".\n",
    "\n",
    "___\n",
    "___\n",
    "___\n",
    "\n",
    "Links de referência:\n",
    "\n",
    "* Wiki: https://pt.wikipedia.org/wiki/Modelo_epid%C3%AAmico\n",
    "* Artigo: https://periodicos.unb.br/index.php/physicae/index  (Sistemas Complexos aplicado a modelos\n",
    "epidemiológicos) --> Teor mais teórico e matemático\n",
    "\n",
    "* Vídeo youtube (onde retirei os dados para o plot e tbm serviu de exemplo para alguns gráficos): https://www.youtube.com/watch?v=xx0FVN8MAu0\n",
    "\n",
    "___\n",
    "\n",
    "* #### Código Colab do vídeo do youtube (tem alguns gráficos interativos aqui do modelo SIR): https://colab.research.google.com/github/hallpaz/numerical-analysis/blob/master/SIR%20Model.ipynb#scrollTo=nhzlg8F2fIjR\n",
    "___\n",
    "___\n",
    "___"
   ]
  },
  {
   "cell_type": "markdown",
   "id": "a67baf35",
   "metadata": {},
   "source": [
    "## Modelo S.I.R\n",
    "\n",
    "\n",
    "<img src='Modelo_SIR_wiki.png'>\n",
    "\n",
    "<img src='Modelo_SIR_fluxograma.png'>\n",
    "\n",
    "\n",
    "<img src='Modelo_SIR_slides.png'>\n",
    "\n",
    ".\n",
    "\n",
    "<img src='Modelo_SIR_hipoteses.png'>"
   ]
  },
  {
   "cell_type": "markdown",
   "id": "c64bfef7",
   "metadata": {},
   "source": [
    "___\n",
    "___\n",
    "___"
   ]
  },
  {
   "cell_type": "code",
   "execution_count": 6,
   "id": "e4525ddf",
   "metadata": {},
   "outputs": [],
   "source": [
    "def SIR(I0=0.0001,dt = 1,days = 20,beta=2.5,gamma=0.8,corrector=False):\n",
    "\n",
    "    n_samples = int(days/dt) + 1\n",
    "    t = np.linspace(0, days, n_samples)\n",
    "\n",
    "    S,I,R = np.zeros(n_samples),np.zeros(n_samples),np.zeros(n_samples)\n",
    "    \n",
    "    # Condições Iniciais \n",
    "    R[0] = 0; I[0] = I0; S[0] = 1 - I0\n",
    "\n",
    "    # Step equations forward in time\n",
    "    for n in range(len(t)-1):\n",
    "        # predictor\n",
    "        S[n+1] = S[n] - dt*beta*S[n]*I[n]\n",
    "        I[n+1] = I[n] + dt*beta*S[n]*I[n] - dt*gamma*I[n] \n",
    "        R[n+1] = R[n] + dt*gamma*I[n]\n",
    "        \n",
    "        if corrector:\n",
    "            S[n+1] = S[n] - dt*beta*S[n+1]*I[n+1]\n",
    "            I[n+1] = I[n] + dt*beta*S[n+1]*I[n+1] - dt*gamma*I[n+1] \n",
    "            R[n+1] = R[n] + dt*gamma*I[n+1]\n",
    "    # R0 = beta*S[0]/gamma\n",
    "    # print('R0', R0)\n",
    "    return S, I, R"
   ]
  },
  {
   "cell_type": "markdown",
   "id": "590a11bb",
   "metadata": {},
   "source": [
    "## Modelo S.I.R  \n",
    "\n",
    "\n",
    "* ####  Usando np.zeros() e indexação de vetores"
   ]
  },
  {
   "cell_type": "code",
   "execution_count": 7,
   "id": "6f75694a",
   "metadata": {
    "scrolled": false
   },
   "outputs": [
    {
     "data": {
      "application/vnd.jupyter.widget-view+json": {
       "model_id": "d169cbd0537e46cc8f3736775a896d1a",
       "version_major": 2,
       "version_minor": 0
      },
      "text/plain": [
       "interactive(children=(FloatSlider(value=0.11, description='I0', max=1.0, step=0.01), FloatSlider(value=0.1, de…"
      ]
     },
     "metadata": {},
     "output_type": "display_data"
    }
   ],
   "source": [
    "@interact_manual(I0=(0.0, 1.0, 0.01), dt=(0.1, 2))\n",
    "def draw_SIR_curves(I0 = 0.11,dt = 0.1,days = 20,beta = 2.5,gamma = 0.8,corrector = False):\n",
    "    \n",
    "    # Chama Função SIR\n",
    "    S, I, R = SIR(I0, dt, days, beta, gamma, corrector)\n",
    "    \n",
    "    # Cria lista do tempo corrigido\n",
    "    t = [dt*i for i in range(len(S))]\n",
    "    \n",
    "    # Plot usando Matplotlib\n",
    "    fig = plt.figure(figsize=(12,8))\n",
    "    l1, l2, l3 = plt.plot(t, S, t, I, t, R)\n",
    "    fig.legend((l1, l2, l3), ('S', 'I', 'R'), 'center right')\n",
    "    plt.xlabel('Time'); plt.ylabel('% population'); plt.show()"
   ]
  },
  {
   "cell_type": "markdown",
   "id": "0704d133",
   "metadata": {},
   "source": [
    "## Modelo S.I.R  \n",
    "\n",
    "\n",
    "* ####  Usando listas vazias e método append --> ao invés de np.zeros() e indexação de vetores"
   ]
  },
  {
   "cell_type": "code",
   "execution_count": 8,
   "id": "ebeeaaba",
   "metadata": {},
   "outputs": [],
   "source": [
    "def SIR2(I_0=0.0001,dt = 1,days = 20,beta=2.5,gamma=0.8,corrector=False):\n",
    "\n",
    "    n_samples = int(days/dt) + 1\n",
    "    t = np.linspace(0, days, n_samples)\n",
    "    \n",
    "    S_vet,I_vet,R_vet = [],[],[]\n",
    "    \n",
    "    # Condições Iniciais \n",
    "    R0 = 0; I0 = I_0; S0 = 1 - I_0\n",
    "    \n",
    "\n",
    "    # Step equations forward in time\n",
    "    for n in range(len(t)-1):\n",
    "        # predictor\n",
    "        S = S0 - dt*beta*S0*I0\n",
    "        I = I0 + dt*beta*S0*I0 - dt*gamma*I0 \n",
    "        R = R0 + dt*gamma*I0\n",
    "        S_vet.append(S); I_vet.append(I); R_vet.append(R)\n",
    "        S0 = S; I0 = I; R0 = R\n",
    "        \n",
    "        if corrector:\n",
    "            S = S0 - dt*beta*S*I\n",
    "            I = I0 + dt*beta*S*I - dt*gamma*I \n",
    "            R = R0 + dt*gamma*I\n",
    "            S_vet.append(S); I_vet.append(I); R_vet.append(R)\n",
    "            S0 = S; I0 = I; R0 = R\n",
    "    # R0 = beta*S[0]/gamma\n",
    "    # print('R0', R0)\n",
    "    return S_vet, I_vet, R_vet"
   ]
  },
  {
   "cell_type": "code",
   "execution_count": 9,
   "id": "fb800f4c",
   "metadata": {},
   "outputs": [
    {
     "data": {
      "application/vnd.jupyter.widget-view+json": {
       "model_id": "d410f81676e441fca9aeca24a87b7803",
       "version_major": 2,
       "version_minor": 0
      },
      "text/plain": [
       "interactive(children=(FloatSlider(value=0.11, description='I_0', max=1.0, step=0.01), FloatSlider(value=0.1, d…"
      ]
     },
     "metadata": {},
     "output_type": "display_data"
    }
   ],
   "source": [
    "@interact_manual(I_0=(0.0, 1.0, 0.01), dt=(0.1, 2))\n",
    "def draw_SIR_curves(I_0 = 0.11,dt = 0.1,days = 20,beta = 2.5,gamma = 0.8,corrector = False):\n",
    "    \n",
    "    # Chama Função SIR\n",
    "    S, I, R = SIR2(I_0, dt, days, beta, gamma, corrector)\n",
    "    \n",
    "    # Cria lista do tempo corrigido\n",
    "    t = [dt*i for i in range(len(S))]\n",
    "    \n",
    "    # Plot usando Matplotlib\n",
    "    fig = plt.figure(figsize=(12,8))\n",
    "    l1, l2, l3 = plt.plot(t, S, t, I, t, R)\n",
    "    fig.legend((l1, l2, l3), ('S', 'I', 'R'), 'center right')\n",
    "    plt.xlabel('Time'); plt.ylabel('% population'); plt.show()"
   ]
  },
  {
   "cell_type": "markdown",
   "id": "b2eef4f6",
   "metadata": {},
   "source": [
    "### Modelo S.I.R\n",
    "\n",
    "* #### Usando Normalização e parâmetros externos \"N\" -> População Total e \"np\" -> nº de passos"
   ]
  },
  {
   "cell_type": "code",
   "execution_count": 18,
   "id": "d6c8651d",
   "metadata": {},
   "outputs": [
    {
     "data": {
      "application/vnd.jupyter.widget-view+json": {
       "model_id": "3ed66e400ec349b5a94c0ced68d33f0e",
       "version_major": 2,
       "version_minor": 0
      },
      "text/plain": [
       "VBox(children=(HBox(children=(IntSlider(value=10, description='N', max=20000, orientation='vertical', step=100…"
      ]
     },
     "metadata": {},
     "output_type": "display_data"
    }
   ],
   "source": [
    "# População total\n",
    "N     = widgets.IntSlider(  value=10  , min=0  , max=20000, step=100, orientation='vertical',description='N')\n",
    "# Número de passos\n",
    "np    = widgets.IntSlider(  value=200 , min=0  , max=100000, step=100   , orientation='vertical',description='np')\n",
    "# Tempo que a pessoa permanece infectada\n",
    "tau    = widgets.IntSlider( value=1   , min=1  , max=100, step=1   , orientation='vertical',description='tau')\n",
    "\n",
    "# Intervalo de tempo\n",
    "dt    = widgets.FloatSlider(value=0.10, min=0.0, max=1.0, step=0.01, orientation='vertical',description='dt')\n",
    "# Transmissibilidade\n",
    "beta  = widgets.FloatSlider(value=2.50, min=0.0, max=5.0, step=0.01, orientation='vertical',description='beta')\n",
    "# Taxa de recuperação ( g = 1/tau )\n",
    "gamma = widgets.FloatSlider(value=0.80, min=0.0, max=3.0, step=0.01, orientation='vertical',description='gamma')\n",
    "\n",
    "\n",
    "def SIR_Sebastián(N,np,tau, dt,beta,gamma):\n",
    "    g = gamma/tau\n",
    "    b = beta\n",
    "\n",
    "    #Valores iniciais\n",
    "    i=[1/N]; s=[1-i[0]]; r=[0]; t=[0]\n",
    "    T=[s[0]+i[0]+r[0]]  #Total\n",
    "\n",
    "    for it  in range(np):\n",
    "      s.append(s[it]-dt*b*s[it]*i[it])\n",
    "      i.append(i[it]+dt*(b*s[it]*i[it]-g*i[it]))\n",
    "      r.append(1-(i[it+1]+s[it+1]))\n",
    "      t.append(dt+it*dt)\n",
    "      T.append(s[it+1]+i[it+1]+r[it+1])\n",
    "\n",
    "    # Plot usando Matplotlib\n",
    "    fig = plt.figure(figsize=(12,8))\n",
    "    l1, l2, l3,l4 = plt.plot(t, s, t, i, t, r, t, T)\n",
    "    fig.legend((l1,l2,l3,l4), ('S: Sucetíveis','I: Infectados','R: Recuperados','T: Total'), 'right')\n",
    "    plt.xlabel('Time'); plt.ylabel('% population'); plt.show()\n",
    "    \n",
    "out2 = widgets.interactive_output(SIR_Sebastián, {'N': N,'np': np, 'tau': tau,'dt': dt, 'beta': beta,'gamma': gamma})\n",
    "widgets.VBox([widgets.HBox([N, np, tau, dt, beta, gamma]), out2])"
   ]
  },
  {
   "cell_type": "markdown",
   "id": "bc611930",
   "metadata": {},
   "source": [
    "## Espaço de fases do modelo SIR    --> usando pacote GO do plotly"
   ]
  },
  {
   "cell_type": "code",
   "execution_count": 11,
   "id": "d4a802a4",
   "metadata": {},
   "outputs": [],
   "source": [
    "# Bibliotecas para plotar, nesse caso, usando pacote GO do plotly\n",
    "\n",
    "import plotly.graph_objects as go\n",
    "import numpy as np\n",
    "import ipywidgets as widgets\n",
    "from IPython.display import display"
   ]
  },
  {
   "cell_type": "code",
   "execution_count": 12,
   "id": "75ac3cb8",
   "metadata": {
    "scrolled": false
   },
   "outputs": [
    {
     "data": {
      "application/vnd.jupyter.widget-view+json": {
       "model_id": "45fed7ada46b4daaa4c99a9f6ca3ff50",
       "version_major": 2,
       "version_minor": 0
      },
      "text/plain": [
       "interactive(children=(IntSlider(value=7, description='amostras', max=50), FloatSlider(value=0.1, description='…"
      ]
     },
     "metadata": {},
     "output_type": "display_data"
    },
    {
     "data": {
      "text/plain": [
       "<function __main__.draw_SI_relation(samples, dt, days, beta, gamma)>"
      ]
     },
     "metadata": {},
     "output_type": "display_data"
    }
   ],
   "source": [
    "def draw_SI_relation(samples, dt, days, beta, gamma):\n",
    "    s_list = []\n",
    "    i_list = []\n",
    "    corrector= 'False'\n",
    "    for i0 in np.linspace(0, 1.0, samples):\n",
    "        S, I, R = SIR(i0, dt, days, beta, gamma, corrector)\n",
    "        s_list.append(S)\n",
    "        i_list.append(I)\n",
    "\n",
    "    fig = go.Figure()\n",
    "    \n",
    "    fig.add_trace(go.Scatter(x=[0.0, 1.0], y=[1.0, 0.0], mode='lines', line=dict(color='gray')))\n",
    "\n",
    "    for k in range(len(s_list)):\n",
    "        if k%2 == 0:\n",
    "            fig.add_trace(go.Scatter(x=s_list[k], y=i_list[k], mode='lines',\n",
    "                                     line=dict(color='blue')))\n",
    "        else:\n",
    "            fig.add_trace(go.Scatter(x=s_list[k], y=i_list[k], mode='lines',\n",
    "                                     line=dict(color='dodgerblue', dash='dash')))\n",
    "            \n",
    "    for i0 in np.linspace(0.0, 0.1, int(samples / 2)):\n",
    "        S, I, R = SIR(i0, dt, days, beta, gamma, corrector)\n",
    "        if (i0*100)%2 == 0:\n",
    "            fig.add_trace(go.Scatter(x=S, y=I, mode='lines',\n",
    "                                     line=dict(color='red')))\n",
    "        else:\n",
    "            fig.add_trace(go.Scatter(x=S, y=I, mode='lines',\n",
    "                                     line=dict(color='firebrick', dash='dash')))\n",
    "            \n",
    "    fig.add_trace(go.Scatter(x=[0.5]*51, y=np.linspace(0, 0.5, 51), mode='lines', line=dict(color='black')))\n",
    "\n",
    "    fig.update_layout(\n",
    "        xaxis=dict(title='S: Suscetíveis'), yaxis=dict(title='I: Infectados'),\n",
    "        showlegend=True, width=800, height=800,\n",
    "    )\n",
    "\n",
    "    return fig.show()\n",
    "\n",
    "out = interact_manual(draw_SI_relation,\n",
    "    samples = widgets.IntSlider(value=7, min=0, max=50, step=1, description='amostras'),\n",
    "    dt = widgets.FloatSlider(value=0.10, min=0.0, max=1.0, step=0.01,  description='dt'),\n",
    "    days = widgets.IntSlider(value=20, min=0, max=100, step=1, description='days'),\n",
    "    beta = widgets.FloatSlider(value=2.50, min=0.0, max=5.0, step=0.01, description='beta'),\n",
    "    gamma = widgets.FloatSlider(value=0.80, min=0.0, max=3.0, step=0.01, description='gamma')\n",
    "); \n",
    "\n",
    "display(out)"
   ]
  },
  {
   "cell_type": "markdown",
   "id": "2c17c917",
   "metadata": {},
   "source": [
    "### Diagrama de fases do modelo SIR para $ \\beta =2,\\gamma =1$ e diferentes valores iniciais. A reta vertical é dada por  $ S={\\frac {\\gamma }{\\beta }} $ e corresponde ao ponto de máximo da curva $ I(S) $ para as curvas que começam à direita da reta. Note que as curvas que começam sobre a reta ou à esquerda da reta possuem número de infectados sempre decrescente.\n",
    "\n",
    "___\n",
    "___\n",
    "___"
   ]
  },
  {
   "cell_type": "markdown",
   "id": "5ffdc86a",
   "metadata": {},
   "source": [
    "### Espaço de Fases do modelo SIR --> Usando Matplotlib"
   ]
  },
  {
   "cell_type": "code",
   "execution_count": 13,
   "id": "011cf906",
   "metadata": {},
   "outputs": [
    {
     "data": {
      "application/vnd.jupyter.widget-view+json": {
       "model_id": "c74a396d21d44668a21687699c9f5b64",
       "version_major": 2,
       "version_minor": 0
      },
      "text/plain": [
       "VBox(children=(HBox(children=(IntSlider(value=10, description='amostras', max=50, orientation='vertical'), Flo…"
      ]
     },
     "metadata": {},
     "output_type": "display_data"
    }
   ],
   "source": [
    "# Definição das variáves \"observer\" (do tipo widgets)\n",
    "samples = widgets.IntSlider(value=10,    min=0,   max=50,  step=1, orientation='vertical',description='amostras')\n",
    "dt    = widgets.FloatSlider(value=0.10, min=0.0, max=1.0, step=0.01, orientation='vertical',description='dt')\n",
    "days  = widgets.IntSlider(  value=20  , min=0  , max=100, step=1   , orientation='vertical',description='days')\n",
    "beta  = widgets.FloatSlider(value=2.50, min=0.0, max=5.0, step=0.01, orientation='vertical',description='beta')\n",
    "gamma = widgets.FloatSlider(value=0.80, min=0.0, max=3.0, step=0.01, orientation='vertical',description='gamma')\n",
    "corrector = widgets.Dropdown(options = [\"False\", \"True\"], value='False', description = 'Corrector')\n",
    "\n",
    "def draw_SI_relation(samples, dt, days, beta, gamma, corrector): \n",
    "    \n",
    "    s_list = []; i_list = []\n",
    "    for i0 in np.linspace(0, 1.0, samples):\n",
    "        S, I, R = SIR(i0, dt, days, beta, gamma, corrector)\n",
    "        s_list.append(S)\n",
    "        i_list.append(I)\n",
    "        \n",
    "    fig = plt.figure(figsize=(10, 10))\n",
    "    plt.plot([0.0, 1.0], [1.0, 0.0], 'gray')\n",
    "    for k in range(len(s_list)):\n",
    "        plt.plot(s_list[k], i_list[k], 'blue' if k%2 else '#0000ff80')\n",
    "        \n",
    "    for i0 in np.linspace(0.0, 0.1, int(samples/2)):\n",
    "        S, I, R = SIR(i0, dt, days, beta, gamma, corrector)\n",
    "        plt.plot(S, I, 'red' if k%2 else '#ff000080')\n",
    "    \n",
    "    # Cria reta\n",
    "    reta_S, reta_I = [], []; \n",
    "    for i in list(range(0,51,1)):\n",
    "        reta_S.append(0.5); reta_I.append(i/100)\n",
    "    \n",
    "    plt.plot(reta_S, reta_I, 'black')\n",
    "    plt.xlabel('Susceptible'); plt.ylabel('Infected'); plt.show()\n",
    "\n",
    "    \n",
    "out = widgets.interactive_output(draw_SI_relation, {'samples': samples,'dt': dt,'days': days,'beta': beta,\n",
    "                                                    'gamma': gamma, 'corrector': corrector})\n",
    "widgets.VBox([widgets.HBox([samples, dt, days, beta, gamma, corrector]), out])"
   ]
  },
  {
   "cell_type": "markdown",
   "id": "dc33876a",
   "metadata": {},
   "source": [
    "### Comparing Euler Method with and without Predictor-Corrector technique"
   ]
  },
  {
   "cell_type": "code",
   "execution_count": 14,
   "id": "6b642036",
   "metadata": {
    "scrolled": true
   },
   "outputs": [
    {
     "data": {
      "application/vnd.jupyter.widget-view+json": {
       "model_id": "86618eeb3dbf4d12ab1f756dc1f1f3a8",
       "version_major": 2,
       "version_minor": 0
      },
      "text/plain": [
       "interactive(children=(FloatSlider(value=0.11, description='I0', max=1.0, step=0.01), FloatSlider(value=1.0, de…"
      ]
     },
     "metadata": {},
     "output_type": "display_data"
    }
   ],
   "source": [
    "@interact_manual(I0=(0.0, 1.0, 0.01), \n",
    "                 dt=(0.1, 2),\n",
    "                 show=['all', 'S', 'I', 'R'])\n",
    "def compare_methods(I0 = 0.11,\n",
    "                    dt = 1,\n",
    "                    days = 20,\n",
    "                    beta = 2.5,\n",
    "                    gamma = 0.8,\n",
    "                    show='all'):\n",
    "    \n",
    "    fe_sir = SIR(I0, dt, days, beta, gamma, False)\n",
    "    pc_sir = SIR(I0, dt, days, beta, gamma, True)\n",
    "    t =  [dt*i for i in range(len(fe_sir[0]))]\n",
    "    legends =['S', 'I', 'R']\n",
    "    \n",
    "    fig, ax = plt.subplots(1, 3, figsize=(28,8)) if show == 'all' else (plt.figure(figsize=(16,8)), None)\n",
    "    if show == 'all':\n",
    "        for index in range(len(fe_sir)):\n",
    "            ax[index].plot(t, fe_sir[index], label='{} FE'.format(legends[index]))\n",
    "            ax[index].plot(t, pc_sir[index], label='{} P-C'.format(legends[index]))\n",
    "            ax[index].legend(loc= 'center right')\n",
    "    else:\n",
    "        index = legends.index(show)\n",
    "        plt.plot(t, fe_sir[index], label='{} FE'.format(legends[index]))\n",
    "        plt.plot(t, pc_sir[index], label='{} P-C'.format(legends[index]))\n",
    "        fig.legend(loc= 'center right')\n",
    "        \n",
    "    fig.suptitle('Comparinson between methods for ODE')\n",
    "    plt.xlabel('Time')\n",
    "    plt.ylabel('Population')\n",
    "    plt.show()"
   ]
  },
  {
   "cell_type": "markdown",
   "id": "d4eeb0cd",
   "metadata": {},
   "source": [
    "___\n",
    "___\n",
    "___\n",
    "\n",
    "# Modelo S.I.R.S  - com Dinâmica Vital  ( $\\mu$ )\n",
    "\n",
    "<img src='Modelo_SIRS_comDinamicaVital.png'>\n",
    "\n",
    "<img src='Modelo_SIRS_comTaxaVital_figura.png'>\n",
    "\n"
   ]
  },
  {
   "cell_type": "code",
   "execution_count": 15,
   "id": "c0232bb9",
   "metadata": {
    "scrolled": false
   },
   "outputs": [
    {
     "data": {
      "application/vnd.jupyter.widget-view+json": {
       "model_id": "59a2260aa5034ee18e201eaf4b422e3e",
       "version_major": 2,
       "version_minor": 0
      },
      "text/plain": [
       "VBox(children=(HBox(children=(FloatSlider(value=0.11, description='I0', max=2.0, orientation='vertical', step=…"
      ]
     },
     "metadata": {},
     "output_type": "display_data"
    }
   ],
   "source": [
    "def SIRS(I0,dt,days,beta,gamma,mu,f):\n",
    "\n",
    "    n_samples = int(days/dt) + 1\n",
    "    t = np.linspace(0, days, n_samples)\n",
    "    \n",
    "    S,I,R = np.zeros(n_samples),np.zeros(n_samples),np.zeros(n_samples)\n",
    "    \n",
    "    # Condições Iniciais \n",
    "    R[0] = 0; I[0] = I0; S[0] = 1 - I0\n",
    "\n",
    "    # Step equations forward in time\n",
    "    for n in range(len(t)-1):\n",
    "        N = S[n] + I[n] + R[n]\n",
    "        S[n+1] = S[n] - dt*beta*S[n]*I[n] + dt*mu*(N-S[n]) + dt*f*R[n]\n",
    "        I[n+1] = I[n] + dt*beta*S[n]*I[n] - dt*gamma*I[n] - dt*mu*I[n]\n",
    "        R[n+1] = R[n] + dt*gamma*I[n] - dt*mu*R[n] - dt*f*R[n]\n",
    "        \n",
    "    # R0 = beta*S[0]/gamma\n",
    "    # print('R0', R0)\n",
    "    return S, I, R\n",
    "\n",
    "# Definição das variáves \"observer\" (do tipo widgets)\n",
    "I0    = widgets.FloatSlider(value=0.11, min=0.0, max=2.0, step=0.01, orientation='vertical',description='I0')\n",
    "dt    = widgets.FloatSlider(value=0.10, min=0.0, max=1.0, step=0.01, orientation='vertical',description='dt')\n",
    "days  = widgets.IntSlider(  value=20  , min=0  , max=100, step=1   , orientation='vertical',description='days')\n",
    "beta  = widgets.FloatSlider(value=2.50, min=0.0, max=5.0, step=0.01, orientation='vertical',description='beta')\n",
    "gamma = widgets.FloatSlider(value=0.80, min=0.0, max=3.0, step=0.01, orientation='vertical',description='gamma')\n",
    "mu    = widgets.FloatSlider(value=0.10, min=0.000, max=1.0, step=0.01, orientation='vertical',description='mu')\n",
    "f     = widgets.FloatSlider(value=0.20, min=0.0, max=2.0, step=0.001, orientation='vertical',description='f')\n",
    "    \n",
    "def function(I0,dt,days,beta,gamma,mu,f):\n",
    "    # Chama Função SIRS\n",
    "    S, I, R = SIRS(I0,dt, days, beta, gamma, mu, f)\n",
    "    \n",
    "    # Cria lista do tempo corrigido\n",
    "    t = [dt*i for i in range(len(S))]\n",
    "    \n",
    "    # Plot usando Matplotlib\n",
    "    fig = plt.figure(figsize=(12,8))\n",
    "    l1, l2, l3 = plt.plot(t, S, t, I, t, R)\n",
    "    fig.legend((l1, l2, l3), ('S: Sucetíveis', 'I: Infectados', 'R: Recuperados'), 'center right')\n",
    "    plt.xlabel('Time'); plt.ylabel('% population'); plt.show()\n",
    "    \n",
    "out = widgets.interactive_output(function, {'I0': I0,'dt': dt, 'days': days, 'beta': beta, \n",
    "                                            'gamma': gamma, 'mu': mu, 'f': f})\n",
    "widgets.VBox([widgets.HBox([I0, dt, days, beta, gamma, mu, f]), out])"
   ]
  },
  {
   "cell_type": "markdown",
   "id": "d209b1c0",
   "metadata": {},
   "source": [
    "<img src='Modelo_SIRS_figura.png'>\n",
    "\n",
    "## Modelo S.I.R.S  - sem Dinâmica Vital  ( $\\mu$ )\n",
    "\n",
    "- ##  Onde: $\\;\\;\\; \\xi == f \\;\\;\\;$  ;   $ \\;\\;\\; \\mu == \\nu$\n",
    "\n",
    "* $ \\xi == f $: Taxa de reinfecção para o modelo SIRS\n",
    "\n",
    "___\n",
    "\n",
    "<img src='Modelo_SIRS_semDinamicaVital.png'>\n",
    "\n"
   ]
  },
  {
   "cell_type": "code",
   "execution_count": 16,
   "id": "f8fbc58b",
   "metadata": {},
   "outputs": [
    {
     "data": {
      "application/vnd.jupyter.widget-view+json": {
       "model_id": "3677f3838e0046fcbe141bc2a040a3e6",
       "version_major": 2,
       "version_minor": 0
      },
      "text/plain": [
       "VBox(children=(HBox(children=(FloatSlider(value=0.11, description='I0', max=2.0, orientation='vertical', step=…"
      ]
     },
     "metadata": {},
     "output_type": "display_data"
    }
   ],
   "source": [
    "def SIRS(I0,dt,days,beta,gamma,mu,f):\n",
    "\n",
    "    n_samples = int(days/dt) + 1\n",
    "    t = np.linspace(0, days, n_samples)\n",
    "    \n",
    "    S,I,R = np.zeros(n_samples),np.zeros(n_samples),np.zeros(n_samples)\n",
    "    \n",
    "    # Condições Iniciais \n",
    "    R[0] = 0; I[0] = I0; S[0] = 1 - I0\n",
    "\n",
    "    # Step equations forward in time\n",
    "    for n in range(len(t)-1):\n",
    "        N = S[n] + I[n] + R[n]\n",
    "        S[n+1] = S[n] - dt*beta*S[n]*I[n] + dt*mu*(N-S[n]) + dt*f*R[n]\n",
    "        I[n+1] = I[n] + dt*beta*S[n]*I[n] - dt*gamma*I[n] - dt*mu*I[n]\n",
    "        R[n+1] = R[n] + dt*gamma*I[n] - dt*mu*R[n] - dt*f*R[n]\n",
    "        \n",
    "    # R0 = beta*S[0]/gamma\n",
    "    # print('R0', R0)\n",
    "    return S, I, R\n",
    "\n",
    "# Definição das variáves \"observer\" (do tipo widgets)\n",
    "I0    = widgets.FloatSlider(value=0.11, min=0.0, max=2.0, step=0.01, orientation='vertical',description='I0')\n",
    "dt    = widgets.FloatSlider(value=0.10, min=0.0, max=1.0, step=0.01, orientation='vertical',description='dt')\n",
    "days  = widgets.IntSlider(  value=20  , min=0  , max=100, step=1   , orientation='vertical',description='days')\n",
    "beta  = widgets.FloatSlider(value=2.50, min=0.0, max=5.0, step=0.01, orientation='vertical',description='beta')\n",
    "gamma = widgets.FloatSlider(value=0.80, min=0.0, max=3.0, step=0.01, orientation='vertical',description='gamma')\n",
    "mu    = widgets.FloatSlider(value=0.000, min=0.000, max=0.100, step=0.001, orientation='vertical',description='mu')\n",
    "f     = widgets.FloatSlider(value=0.200, min=0.0, max=2.0, step=0.001, orientation='vertical',description='f')\n",
    "    \n",
    "def function(I0,dt,days,beta,gamma,mu,f):\n",
    "    # Chama Função SIRS\n",
    "    S, I, R = SIRS(I0,dt, days, beta, gamma, mu, f)\n",
    "    \n",
    "    # Cria lista do tempo corrigido\n",
    "    t = [dt*i for i in range(len(S))]\n",
    "    \n",
    "    # Plot usando Matplotlib\n",
    "    fig = plt.figure(figsize=(12,8))\n",
    "    l1, l2, l3 = plt.plot(t, S, t, I, t, R)\n",
    "    fig.legend((l1, l2, l3), ('S: Sucetíveis', 'I: Infectados', 'R: Recuperados'), 'center right')\n",
    "    plt.xlabel('Time'); plt.ylabel('% population'); plt.show()\n",
    "    \n",
    "out = widgets.interactive_output(function, {'I0': I0,'dt': dt, 'days': days, 'beta': beta, \n",
    "                                            'gamma': gamma, 'mu': mu, 'f': f})\n",
    "widgets.VBox([widgets.HBox([I0, dt, days, beta, gamma, mu, f]), out])"
   ]
  },
  {
   "cell_type": "markdown",
   "id": "623d310f",
   "metadata": {},
   "source": [
    "___\n",
    "___\n",
    "___\n",
    "\n",
    "# Modelo S.E.I.R  - com Dinâmica Vital  ( $\\mu$ )\n",
    "\n",
    "<img src='Modelo_SEIR.png'>\n",
    "\n",
    "<img src='Modelo_SEIR_figura.png'>\n"
   ]
  },
  {
   "cell_type": "code",
   "execution_count": 17,
   "id": "42317469",
   "metadata": {},
   "outputs": [
    {
     "data": {
      "application/vnd.jupyter.widget-view+json": {
       "model_id": "637fbd8ede6c4ef3bca208520fac8369",
       "version_major": 2,
       "version_minor": 0
      },
      "text/plain": [
       "VBox(children=(HBox(children=(FloatSlider(value=0.11, description='I0', max=2.0, orientation='vertical', step=…"
      ]
     },
     "metadata": {},
     "output_type": "display_data"
    }
   ],
   "source": [
    "def SEIR(I0,dt,days,beta,gamma,mu,epsilon):\n",
    "\n",
    "    n_samples = int(days/dt) + 1\n",
    "    t = np.linspace(0, days, n_samples)\n",
    "    \n",
    "    S,E,I,R = np.zeros(n_samples),np.zeros(n_samples),np.zeros(n_samples),np.zeros(n_samples)\n",
    "    \n",
    "    # Condições Iniciais \n",
    "    R[0] = 0; E[0] = 0 ; I[0] = I0; S[0] = 1 - I0\n",
    "\n",
    "    # Step equations forward in time\n",
    "    for n in range(len(t)-1):\n",
    "        N = S[n] + E[n] + I[n] + R[n]\n",
    "        S[n+1] = S[n] - dt*beta*S[n]*I[n] + dt*mu*(N - S[n]) \n",
    "        E[n+1] = E[n] + dt*beta*S[n]*I[n] - dt*(epsilon + mu)*E[n] \n",
    "        I[n+1] = I[n] + dt*epsilon*E[n] - dt*(gamma + mu)*I[n]\n",
    "        R[n+1] = R[n] + dt*gamma*I[n] - dt*mu*R[n] \n",
    "        \n",
    "    # R0 = beta*S[0]/gamma\n",
    "    # print('R0', R0)\n",
    "    return S, E, I, R\n",
    "\n",
    "# Definição das variáves \"observer\" (do tipo widgets)\n",
    "I0    = widgets.FloatSlider(value=0.11, min=0.0, max=2.0, step=0.01, orientation='vertical',description='I0')\n",
    "dt    = widgets.FloatSlider(value=0.10, min=0.0, max=1.0, step=0.01, orientation='vertical',description='dt')\n",
    "days  = widgets.IntSlider(  value=20  , min=0  , max=1000, step=1   , orientation='vertical',description='days')\n",
    "beta  = widgets.FloatSlider(value=10.0, min=0.0, max=15.0, step=0.01, orientation='vertical',description='beta')\n",
    "gamma = widgets.FloatSlider(value=0.50, min=0.0, max=3.0, step=0.01, orientation='vertical',description='gamma')\n",
    "mu    = widgets.FloatSlider(value=0.05, min=0.000, max=0.100, step=0.001, orientation='vertical',description='mu')\n",
    "epsilon = widgets.FloatSlider(value=0.20, min=0.0, max=2.0, step=0.001, orientation='vertical',description='epsilon')\n",
    "    \n",
    "def function(I0,dt,days,beta,gamma,mu,epsilon):\n",
    "    # Chama Função SIRS\n",
    "    S, E, I, R = SEIR(I0,dt, days, beta, gamma, mu, epsilon)\n",
    "    \n",
    "    # Cria lista do tempo corrigido\n",
    "    t = [dt*i for i in range(len(S))]\n",
    "    \n",
    "    # Plot usando Matplotlib\n",
    "    fig = plt.figure(figsize=(12,8))\n",
    "    l1, l2, l3, l4 = plt.plot(t, S,'blue', t, E,'red', t, I,'orange', t, R,'green',)\n",
    "#     l1, l2, l3, l4 = plt.plot(t, S,  t, E, t, I, t, R)\n",
    "#     l1, l2, l3, l4 = plt.plot(t, S, t, E, t, I, t, R)\n",
    "#     l1, l2, l3, l4 = plt.plot(t, S, t, E, t, I, t, R)\n",
    "#     l1, l2, l3, l4 = plt.plot(t, S, t, E, t, I, t, R)\n",
    "    fig.legend((l1, l2, l3,l4), ('S: Sucetíveis','E: Expostos', 'I: Infectados', 'R: Recuperados'), 'center right')\n",
    "    plt.xlabel('Time'); plt.ylabel('% population'); plt.show()\n",
    "    \n",
    "out = widgets.interactive_output(function, {'I0': I0,'dt': dt, 'days': days, 'beta': beta, \n",
    "                                            'gamma': gamma, 'mu': mu, 'epsilon': epsilon})\n",
    "widgets.VBox([widgets.HBox([I0, dt, days, beta, gamma, mu, epsilon]), out])"
   ]
  },
  {
   "cell_type": "code",
   "execution_count": null,
   "id": "41dc54f2",
   "metadata": {},
   "outputs": [],
   "source": []
  }
 ],
 "metadata": {
  "kernelspec": {
   "display_name": "Python 3 (ipykernel)",
   "language": "python",
   "name": "python3"
  },
  "language_info": {
   "codemirror_mode": {
    "name": "ipython",
    "version": 3
   },
   "file_extension": ".py",
   "mimetype": "text/x-python",
   "name": "python",
   "nbconvert_exporter": "python",
   "pygments_lexer": "ipython3",
   "version": "3.10.6"
  }
 },
 "nbformat": 4,
 "nbformat_minor": 5
}
